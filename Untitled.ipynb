{
 "cells": [
  {
   "cell_type": "code",
   "execution_count": 1,
   "id": "44b5dde4",
   "metadata": {},
   "outputs": [
    {
     "name": "stdout",
     "output_type": "stream",
     "text": [
      "hello\n"
     ]
    }
   ],
   "source": [
    "print(\"hello\")"
   ]
  },
  {
   "cell_type": "code",
   "execution_count": 2,
   "id": "a165f943",
   "metadata": {},
   "outputs": [
    {
     "name": "stdout",
     "output_type": "stream",
     "text": [
      "Yasmin Goooo!\n"
     ]
    }
   ],
   "source": [
    "print(\"Yasmin Goooo!\")"
   ]
  },
  {
   "cell_type": "code",
   "execution_count": 3,
   "id": "d93e7f39",
   "metadata": {},
   "outputs": [
    {
     "name": "stdout",
     "output_type": "stream",
     "text": [
      "2\n"
     ]
    }
   ],
   "source": [
    "print(2)"
   ]
  },
  {
   "cell_type": "code",
   "execution_count": 4,
   "id": "86453654",
   "metadata": {},
   "outputs": [
    {
     "name": "stdout",
     "output_type": "stream",
     "text": [
      "Enter your age12\n",
      "No\n"
     ]
    }
   ],
   "source": [
    "age = input(\"Enter your age\")\n",
    "if int(age) == 18 :\n",
    "    print(\"Welcome:)\")\n",
    "else:\n",
    "    print(\"Sorry,Not Allowed\")"
   ]
  },
  {
   "cell_type": "code",
   "execution_count": 5,
   "id": "ce969b8f",
   "metadata": {},
   "outputs": [
    {
     "name": "stdout",
     "output_type": "stream",
     "text": [
      "True\n"
     ]
    }
   ],
   "source": [
    "print('love'<'zebra')"
   ]
  },
  {
   "cell_type": "code",
   "execution_count": 6,
   "id": "b193a86a",
   "metadata": {},
   "outputs": [
    {
     "name": "stdout",
     "output_type": "stream",
     "text": [
      "False\n"
     ]
    }
   ],
   "source": [
    "print('song'<'long')"
   ]
  },
  {
   "cell_type": "code",
   "execution_count": 7,
   "id": "0add4e11",
   "metadata": {},
   "outputs": [
    {
     "name": "stdout",
     "output_type": "stream",
     "text": [
      "False\n"
     ]
    }
   ],
   "source": [
    "print('a'<'A')"
   ]
  },
  {
   "cell_type": "code",
   "execution_count": 8,
   "id": "701becd8",
   "metadata": {},
   "outputs": [
    {
     "name": "stdout",
     "output_type": "stream",
     "text": [
      "True\n"
     ]
    }
   ],
   "source": [
    "print('a'>'A')"
   ]
  },
  {
   "cell_type": "code",
   "execution_count": 9,
   "id": "d5b0aaba",
   "metadata": {},
   "outputs": [
    {
     "name": "stdout",
     "output_type": "stream",
     "text": [
      "True\n"
     ]
    }
   ],
   "source": [
    "print('A'<'z')"
   ]
  },
  {
   "cell_type": "code",
   "execution_count": 10,
   "id": "f9c9fcf6",
   "metadata": {},
   "outputs": [
    {
     "name": "stdout",
     "output_type": "stream",
     "text": [
      "True\n"
     ]
    }
   ],
   "source": [
    "print('a'>'')"
   ]
  },
  {
   "cell_type": "code",
   "execution_count": 11,
   "id": "847e4e95",
   "metadata": {},
   "outputs": [
    {
     "name": "stdout",
     "output_type": "stream",
     "text": [
      "True\n"
     ]
    }
   ],
   "source": [
    "print('a'>'0')"
   ]
  },
  {
   "cell_type": "code",
   "execution_count": 13,
   "id": "af28540f",
   "metadata": {},
   "outputs": [
    {
     "name": "stdout",
     "output_type": "stream",
     "text": [
      "123\n"
     ]
    }
   ],
   "source": [
    "numm=1\n",
    "numm=numm*10+2\n",
    "numm=numm*10+3\n",
    "print(numm)"
   ]
  },
  {
   "cell_type": "code",
   "execution_count": 15,
   "id": "d060836b",
   "metadata": {},
   "outputs": [
    {
     "name": "stdout",
     "output_type": "stream",
     "text": [
      "3\n"
     ]
    }
   ],
   "source": [
    "answer = min(3,6)\n",
    "print(answer)"
   ]
  },
  {
   "cell_type": "code",
   "execution_count": 16,
   "id": "6599e69a",
   "metadata": {},
   "outputs": [
    {
     "name": "stdout",
     "output_type": "stream",
     "text": [
      "write first number7\n",
      "write second number12\n",
      "write third number58.2\n",
      "write fourth number1\n",
      "write fifth number67\n",
      "1\n"
     ]
    }
   ],
   "source": [
    "num1 = input('write first number')\n",
    "num2 = input('write second number')\n",
    "num3 = input('write third number')\n",
    "num4 = input('write fourth number')\n",
    "num5 = input('write fifth number')\n",
    "\n",
    "print('the smallest number is'min(num1,num2,num3,num4,num5))"
   ]
  },
  {
   "cell_type": "code",
   "execution_count": 17,
   "id": "9f3aff57",
   "metadata": {},
   "outputs": [
    {
     "name": "stdout",
     "output_type": "stream",
     "text": [
      "write first number24\n",
      "write second number62\n",
      "write third number71\n",
      "write fourth number2\n",
      "write fifth number85\n",
      "85\n"
     ]
    }
   ],
   "source": [
    "num1 = input('write first number')\n",
    "num2 = input('write second number')\n",
    "num3 = input('write third number')\n",
    "num4 = input('write fourth number')\n",
    "num5 = input('write fifth number')\n",
    "\n",
    "print('the largest number is'max(num1,num2,num3,num4,num5))"
   ]
  },
  {
   "cell_type": "code",
   "execution_count": 18,
   "id": "15d215cd",
   "metadata": {},
   "outputs": [
    {
     "name": "stdout",
     "output_type": "stream",
     "text": [
      "<class 'NotADirectoryError'>\n"
     ]
    }
   ],
   "source": [
    "print(NotADirectoryError)"
   ]
  },
  {
   "cell_type": "code",
   "execution_count": 19,
   "id": "a590664c",
   "metadata": {},
   "outputs": [
    {
     "name": "stdout",
     "output_type": "stream",
     "text": [
      "Yasmin\n"
     ]
    }
   ],
   "source": [
    "user_name = \"Yasmin\"                               #string   (the value must be between double cotations \"\")\n",
    "print(user_name)"
   ]
  },
  {
   "cell_type": "code",
   "execution_count": 20,
   "id": "4b866ff1",
   "metadata": {},
   "outputs": [
    {
     "name": "stdout",
     "output_type": "stream",
     "text": [
      "25\n"
     ]
    }
   ],
   "source": [
    "user_age = 25                                      #integer  (full number without decimal)\n",
    "print(user_age)"
   ]
  },
  {
   "cell_type": "code",
   "execution_count": 21,
   "id": "d7c76c1c",
   "metadata": {},
   "outputs": [
    {
     "name": "stdout",
     "output_type": "stream",
     "text": [
      "560.5\n"
     ]
    }
   ],
   "source": [
    "user_payment = 560.50                              #float    (with decimal)\n",
    "print(user_payment)"
   ]
  },
  {
   "cell_type": "code",
   "execution_count": 22,
   "id": "d8b1c771",
   "metadata": {},
   "outputs": [
    {
     "name": "stdout",
     "output_type": "stream",
     "text": [
      "True\n"
     ]
    }
   ],
   "source": [
    "isUpdated = True                                   #boolean  (True & False)"
   ]
  },
  {
   "cell_type": "code",
   "execution_count": 23,
   "id": "e77b28d8",
   "metadata": {},
   "outputs": [
    {
     "name": "stdout",
     "output_type": "stream",
     "text": [
      "['0535523634', '0596543049'] {'name': 'Yasmin', 'age': 15}\n"
     ]
    }
   ],
   "source": [
    "user_phones = [\"0535523634\", \"0596543049\"]         #array/list    (0,1,2,3   begins with 0 index  many values but with the same type)\n",
    "user = {\"name\":\"Yasmin\", \"age\":15}                 #object(OOP)   (contains more than 1 info  key & value     the key must be a string)\n",
    "print(user_phones,user)"
   ]
  },
  {
   "cell_type": "code",
   "execution_count": 24,
   "id": "fbcb7c53",
   "metadata": {},
   "outputs": [
    {
     "name": "stdout",
     "output_type": "stream",
     "text": [
      "<class 'int'>\n",
      "14\n"
     ]
    }
   ],
   "source": [
    "salary = (int(14.7))\n",
    "print(type(salary))\n",
    "print(salary)"
   ]
  },
  {
   "cell_type": "code",
   "execution_count": 26,
   "id": "a3451e99",
   "metadata": {},
   "outputs": [
    {
     "name": "stdout",
     "output_type": "stream",
     "text": [
      "Enter the website you wanttiktok\n"
     ]
    }
   ],
   "source": [
    "import webbrowser\n",
    "website_name = input(\"Enter the website you want\")\n",
    "url = \"https://www.google.com/\"\n",
    "if website_name == \"instagram\":\n",
    "    webbrowser.open(\"https://www.instagram.com/yasmin_hamed2007/\")\n",
    "else:\n",
    "    webbrowser.open(url)"
   ]
  },
  {
   "cell_type": "code",
   "execution_count": 28,
   "id": "217db9f4",
   "metadata": {},
   "outputs": [
    {
     "name": "stdout",
     "output_type": "stream",
     "text": [
      "enter even number12\n",
      "Exellant\n"
     ]
    }
   ],
   "source": [
    "number = int(input(\"enter even number\"))\n",
    "if number % 2 == 0:\n",
    "    print(\"Exellant\")\n",
    "else:\n",
    "    print(\"error!! \")\n",
    "    print(number , \"is not an even number\")"
   ]
  },
  {
   "cell_type": "code",
   "execution_count": null,
   "id": "e0f0effe",
   "metadata": {},
   "outputs": [],
   "source": [
    "name = input('enter your name')\n",
    "print(len(name))"
   ]
  },
  {
   "cell_type": "code",
   "execution_count": 32,
   "id": "6700f46c",
   "metadata": {},
   "outputs": [
    {
     "name": "stdout",
     "output_type": "stream",
     "text": [
      "enter a usernameJasmine_27\n",
      "Welcome! Jasmine_27\n"
     ]
    }
   ],
   "source": [
    "name2 = input(\"enter a username\")\n",
    "if len(name2)<20:\n",
    "    print(\"Welcome!\",name2)\n",
    "else:\n",
    "    print(\"error!! \")\n",
    "    print(\"username:\",name2 , \"is too long.max 50 characters\")"
   ]
  },
  {
   "cell_type": "code",
   "execution_count": 35,
   "id": "50364ef2",
   "metadata": {},
   "outputs": [
    {
     "name": "stdout",
     "output_type": "stream",
     "text": [
      "enter your nameYasmine\n",
      "7\n"
     ]
    }
   ],
   "source": [
    "name = input('enter your name')\n",
    "print(len(name))"
   ]
  },
  {
   "cell_type": "code",
   "execution_count": 36,
   "id": "f6cf6800",
   "metadata": {},
   "outputs": [
    {
     "name": "stdout",
     "output_type": "stream",
     "text": [
      "enter your nameHamed\n",
      "True\n"
     ]
    }
   ],
   "source": [
    "userr = input(\"enter your name\")\n",
    "print('a' in userr)"
   ]
  },
  {
   "cell_type": "code",
   "execution_count": null,
   "id": "25288ae1",
   "metadata": {},
   "outputs": [],
   "source": [
    "salary = int(input(\"your salary...\"))\n",
    "if salary < 10000:\n",
    "    print('work Harder')\n",
    "print(\"Keep Going:)\")"
   ]
  },
  {
   "cell_type": "code",
   "execution_count": 41,
   "id": "513445fe",
   "metadata": {},
   "outputs": [
    {
     "name": "stdout",
     "output_type": "stream",
     "text": [
      "enter your age in numbers19\n",
      "Welcome,Man!\n"
     ]
    }
   ],
   "source": [
    "yourAge=int(input(\"enter your age in numbers\"))\n",
    "if yourAge < 12:\n",
    "    print(\"you are a baby!\")\n",
    "elif yourAge < 18:\n",
    "    print(\"you are young man!\")\n",
    "elif yourAge >18:\n",
    "    print(\"Welcome,Man!\")"
   ]
  },
  {
   "cell_type": "code",
   "execution_count": null,
   "id": "4e87321f",
   "metadata": {},
   "outputs": [],
   "source": [
    "salary = int(input(\"your salary...\"))\n",
    "if salary < 10000:\n",
    "    print('you are poor!!')\n",
    "print(\"Keep Going:)\")"
   ]
  },
  {
   "cell_type": "code",
   "execution_count": 42,
   "id": "4a86e56b",
   "metadata": {},
   "outputs": [
    {
     "name": "stdout",
     "output_type": "stream",
     "text": [
      "your salary...13000000\n",
      "you are rich!!\n",
      "Keep Going:)\n"
     ]
    }
   ],
   "source": [
    "salary = int(input(\"your salary...\"))\n",
    "if salary < 10000:\n",
    "    print('you are poor!!')\n",
    "elif salary < 20000:\n",
    "    print('Good Salary!!')\n",
    "elif salary > 20000:\n",
    "    print('you are rich!!')\n",
    "print(\"Keep Going:)\")"
   ]
  },
  {
   "cell_type": "code",
   "execution_count": null,
   "id": "22002bc5",
   "metadata": {},
   "outputs": [],
   "source": []
  }
 ],
 "metadata": {
  "kernelspec": {
   "display_name": "Python 3 (ipykernel)",
   "language": "python",
   "name": "python3"
  },
  "language_info": {
   "codemirror_mode": {
    "name": "ipython",
    "version": 3
   },
   "file_extension": ".py",
   "mimetype": "text/x-python",
   "name": "python",
   "nbconvert_exporter": "python",
   "pygments_lexer": "ipython3",
   "version": "3.9.12"
  }
 },
 "nbformat": 4,
 "nbformat_minor": 5
}
